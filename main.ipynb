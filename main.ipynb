{
 "cells": [
  {
   "cell_type": "markdown",
   "metadata": {},
   "source": [
    "### **Business Problem**\n",
    "Mobile carrier Megaline has found out that many of their subscribers use legacy plans. They want a model that will analyze subscribers' behavior and recommend one of Megaline's newer plans: Smart or Ultra, with a minimum accuracy score of 75%. For this binary classification task I aim to develop a model with the highest possible accuracy. I will employ three classification algorithms to train the model. The trained model with the highest accuracy score will be delivered to Megaline. The three learning algorithms I will employ are:\n",
    "\n",
    "1. Decision Tree Classifier\n",
    "2. Random Forest Classifier\n",
    "3. Logistic Regression Classifier\n",
    "\n",
    "The data Megaline has provided represents the behavior of users who have already switch to one of the new plans from the legacy plans. The data was pre-processed in a previous analysis I did for Megaline. Every observation in the dataset contains monthly behavior information about one user. The information given is as follows: \n",
    "\n",
    "- сalls — number of calls\n",
    "- minutes — total call duration in minutes\n",
    "- messages — number of text messages\n",
    "- mb_used — Internet traffic used in MB\n",
    "- is_ultra — plan for the current month (Ultra - 1, Smart - 0)\n",
    "\n",
    "I will use the accuracy score function provided by the sklearn metrics library to evaluate the trained models"
   ]
  },
  {
   "cell_type": "markdown",
   "metadata": {},
   "source": [
    "### Import Libraries & Dataset"
   ]
  },
  {
   "cell_type": "code",
   "execution_count": 1,
   "metadata": {},
   "outputs": [],
   "source": [
    "import pandas as pd\n",
    "from sklearn.model_selection import train_test_split\n",
    "from sklearn.tree import DecisionTreeClassifier\n",
    "from sklearn.ensemble import RandomForestClassifier\n",
    "from sklearn.linear_model import LogisticRegression\n",
    "from sklearn.metrics import accuracy_score"
   ]
  },
  {
   "cell_type": "code",
   "execution_count": 2,
   "metadata": {},
   "outputs": [],
   "source": [
    "df = pd.read_csv('data/TripleTen user behavior.csv')"
   ]
  },
  {
   "cell_type": "markdown",
   "metadata": {},
   "source": [
    "### Descriptive Statistics & Data Preperation\n",
    "First let's inspect the complete dataset "
   ]
  },
  {
   "cell_type": "code",
   "execution_count": 3,
   "metadata": {},
   "outputs": [
    {
     "data": {
      "text/html": [
       "<div>\n",
       "<style scoped>\n",
       "    .dataframe tbody tr th:only-of-type {\n",
       "        vertical-align: middle;\n",
       "    }\n",
       "\n",
       "    .dataframe tbody tr th {\n",
       "        vertical-align: top;\n",
       "    }\n",
       "\n",
       "    .dataframe thead th {\n",
       "        text-align: right;\n",
       "    }\n",
       "</style>\n",
       "<table border=\"1\" class=\"dataframe\">\n",
       "  <thead>\n",
       "    <tr style=\"text-align: right;\">\n",
       "      <th></th>\n",
       "      <th>calls</th>\n",
       "      <th>minutes</th>\n",
       "      <th>messages</th>\n",
       "      <th>mb_used</th>\n",
       "      <th>is_ultra</th>\n",
       "    </tr>\n",
       "  </thead>\n",
       "  <tbody>\n",
       "    <tr>\n",
       "      <th>0</th>\n",
       "      <td>40.0</td>\n",
       "      <td>311.90</td>\n",
       "      <td>83.0</td>\n",
       "      <td>19915.42</td>\n",
       "      <td>0</td>\n",
       "    </tr>\n",
       "    <tr>\n",
       "      <th>1</th>\n",
       "      <td>85.0</td>\n",
       "      <td>516.75</td>\n",
       "      <td>56.0</td>\n",
       "      <td>22696.96</td>\n",
       "      <td>0</td>\n",
       "    </tr>\n",
       "    <tr>\n",
       "      <th>2</th>\n",
       "      <td>77.0</td>\n",
       "      <td>467.66</td>\n",
       "      <td>86.0</td>\n",
       "      <td>21060.45</td>\n",
       "      <td>0</td>\n",
       "    </tr>\n",
       "    <tr>\n",
       "      <th>3</th>\n",
       "      <td>106.0</td>\n",
       "      <td>745.53</td>\n",
       "      <td>81.0</td>\n",
       "      <td>8437.39</td>\n",
       "      <td>1</td>\n",
       "    </tr>\n",
       "    <tr>\n",
       "      <th>4</th>\n",
       "      <td>66.0</td>\n",
       "      <td>418.74</td>\n",
       "      <td>1.0</td>\n",
       "      <td>14502.75</td>\n",
       "      <td>0</td>\n",
       "    </tr>\n",
       "  </tbody>\n",
       "</table>\n",
       "</div>"
      ],
      "text/plain": [
       "   calls  minutes  messages   mb_used  is_ultra\n",
       "0   40.0   311.90      83.0  19915.42         0\n",
       "1   85.0   516.75      56.0  22696.96         0\n",
       "2   77.0   467.66      86.0  21060.45         0\n",
       "3  106.0   745.53      81.0   8437.39         1\n",
       "4   66.0   418.74       1.0  14502.75         0"
      ]
     },
     "execution_count": 3,
     "metadata": {},
     "output_type": "execute_result"
    }
   ],
   "source": [
    "df.head()"
   ]
  },
  {
   "cell_type": "code",
   "execution_count": 4,
   "metadata": {},
   "outputs": [
    {
     "data": {
      "text/html": [
       "<div>\n",
       "<style scoped>\n",
       "    .dataframe tbody tr th:only-of-type {\n",
       "        vertical-align: middle;\n",
       "    }\n",
       "\n",
       "    .dataframe tbody tr th {\n",
       "        vertical-align: top;\n",
       "    }\n",
       "\n",
       "    .dataframe thead th {\n",
       "        text-align: right;\n",
       "    }\n",
       "</style>\n",
       "<table border=\"1\" class=\"dataframe\">\n",
       "  <thead>\n",
       "    <tr style=\"text-align: right;\">\n",
       "      <th></th>\n",
       "      <th>type</th>\n",
       "      <th>count</th>\n",
       "      <th>nunique</th>\n",
       "      <th>%unique</th>\n",
       "      <th>null</th>\n",
       "      <th>%null</th>\n",
       "      <th>min</th>\n",
       "      <th>max</th>\n",
       "    </tr>\n",
       "  </thead>\n",
       "  <tbody>\n",
       "    <tr>\n",
       "      <th>calls</th>\n",
       "      <td>float64</td>\n",
       "      <td>3214</td>\n",
       "      <td>184</td>\n",
       "      <td>5.724953</td>\n",
       "      <td>0</td>\n",
       "      <td>0.0</td>\n",
       "      <td>0.0</td>\n",
       "      <td>244.00</td>\n",
       "    </tr>\n",
       "    <tr>\n",
       "      <th>minutes</th>\n",
       "      <td>float64</td>\n",
       "      <td>3214</td>\n",
       "      <td>3149</td>\n",
       "      <td>97.977598</td>\n",
       "      <td>0</td>\n",
       "      <td>0.0</td>\n",
       "      <td>0.0</td>\n",
       "      <td>1632.06</td>\n",
       "    </tr>\n",
       "    <tr>\n",
       "      <th>messages</th>\n",
       "      <td>float64</td>\n",
       "      <td>3214</td>\n",
       "      <td>180</td>\n",
       "      <td>5.600498</td>\n",
       "      <td>0</td>\n",
       "      <td>0.0</td>\n",
       "      <td>0.0</td>\n",
       "      <td>224.00</td>\n",
       "    </tr>\n",
       "    <tr>\n",
       "      <th>mb_used</th>\n",
       "      <td>float64</td>\n",
       "      <td>3214</td>\n",
       "      <td>3203</td>\n",
       "      <td>99.657747</td>\n",
       "      <td>0</td>\n",
       "      <td>0.0</td>\n",
       "      <td>0.0</td>\n",
       "      <td>49745.73</td>\n",
       "    </tr>\n",
       "    <tr>\n",
       "      <th>is_ultra</th>\n",
       "      <td>int64</td>\n",
       "      <td>3214</td>\n",
       "      <td>2</td>\n",
       "      <td>0.062228</td>\n",
       "      <td>0</td>\n",
       "      <td>0.0</td>\n",
       "      <td>0.0</td>\n",
       "      <td>1.00</td>\n",
       "    </tr>\n",
       "  </tbody>\n",
       "</table>\n",
       "</div>"
      ],
      "text/plain": [
       "             type  count  nunique    %unique  null  %null  min       max\n",
       "calls     float64   3214      184   5.724953     0    0.0  0.0    244.00\n",
       "minutes   float64   3214     3149  97.977598     0    0.0  0.0   1632.06\n",
       "messages  float64   3214      180   5.600498     0    0.0  0.0    224.00\n",
       "mb_used   float64   3214     3203  99.657747     0    0.0  0.0  49745.73\n",
       "is_ultra    int64   3214        2   0.062228     0    0.0  0.0      1.00"
      ]
     },
     "execution_count": 4,
     "metadata": {},
     "output_type": "execute_result"
    }
   ],
   "source": [
    "def summary_stats(df):\n",
    "    stats = pd.DataFrame(index = list(df))\n",
    "    stats['type'] = df.dtypes\n",
    "    stats['count'] = df.count()\n",
    "    stats['nunique'] = df.nunique()\n",
    "    stats['%unique'] = stats['nunique'] / len(df) * 100\n",
    "    stats['null'] = df.isnull().sum()\n",
    "    stats['%null'] = stats['null'] / len(df) * 100\n",
    "    stats['min'] = df.min()\n",
    "    stats['max'] = df.max()\n",
    "    return stats\n",
    "\n",
    "summary_stats(df)"
   ]
  },
  {
   "cell_type": "markdown",
   "metadata": {},
   "source": [
    "The data has **3,214 rows & 5 columns**, including the target variable, which means I will have **4 features** to train the models on. There are no missing values and all 4 features are numeric. The target variable here is the **is_ultra** column which contains a **1** if the user is on the Ultra phone plan, or a **0** if the user is not on the Ultra phone plan.\n",
    "\n",
    "I will now split the data into training, validation, & test sets using a 3:1:1 ratio respectively. I chose this ratio because no test data exists, meaning we will have to partition our own test data. To do that we will first need to seperate the target variable & features from each other."
   ]
  },
  {
   "cell_type": "code",
   "execution_count": 5,
   "metadata": {},
   "outputs": [],
   "source": [
    "# seperating the features into their own variable\n",
    "features = df.drop(['is_ultra'], axis=1)\n",
    "\n",
    "# seperating the target variable from the features\n",
    "target = df['is_ultra']\n",
    "\n",
    "# splitting 60% of the original dataset to be used for training\n",
    "features_train, features_temp, target_train, target_temp = train_test_split(\n",
    "    features, target, test_size=0.6, random_state=54321\n",
    "    )\n",
    "\n",
    "# splitting the remaining data in half to achieve a 3:1:1 ratio\n",
    "features_test, features_valid, target_test, target_valid = train_test_split(\n",
    "    features_temp, target_temp, test_size=0.5, random_state=54321\n",
    "    )\n",
    "\n"
   ]
  },
  {
   "cell_type": "code",
   "execution_count": 26,
   "metadata": {},
   "outputs": [
    {
     "name": "stdout",
     "output_type": "stream",
     "text": [
      "(964, 4) (964,)\n",
      "(965, 4) (965,)\n",
      "(1285, 4) (1285,)\n"
     ]
    }
   ],
   "source": [
    "print(features_test.shape, target_test.shape)\n",
    "print(features_valid.shape, target_valid.shape)\n",
    "print(features_train.shape, target_train.shape)"
   ]
  },
  {
   "cell_type": "markdown",
   "metadata": {},
   "source": [
    "### Decision Tree Algorithm\n",
    "\n",
    "First I will train the model using a decision tree. The most important hyperparameter of a decision tree is the tree's maximum depth. To ensure we train the model using the optimal value for the tree's maximum depth I will create a loop that iteratively trains the model with a different depth set for the tree, makes prediction using the trained model, & calculates the accuracy of the model. Once the loop terminates I will have saved the best performing model, it's accuracy, & the value of the max_depth hyperparameter."
   ]
  },
  {
   "cell_type": "code",
   "execution_count": 49,
   "metadata": {},
   "outputs": [
    {
     "name": "stdout",
     "output_type": "stream",
     "text": [
      "  \n",
      "Accuracy on Validation Set: 0.805181347150259\n",
      "Optimal Depth Value: 5\n",
      "\n"
     ]
    }
   ],
   "source": [
    "best_tree_model = None\n",
    "best_tree_score = 0\n",
    "best_depth = 0\n",
    "\n",
    "for depth in range(1, 10):\n",
    "    # training model\n",
    "    model = DecisionTreeClassifier(max_depth=depth, random_state=54321, criterion='gini')\n",
    "    model.fit(features_train, target_train)\n",
    "    # using trained model to make predictions on validation data\n",
    "    tree_prediction = model.predict(features_valid)\n",
    "    # calculating the accuracy of the  trained model on validation data\n",
    "    valid_accuracy = accuracy_score(target_valid, tree_prediction)\n",
    "    # checking if this iteration's trained model performed better than the last\n",
    "    if valid_accuracy > best_tree_score:\n",
    "        best_tree_model = model\n",
    "        best_tree_score = valid_accuracy\n",
    "        best_depth = depth\n",
    "        \n",
    "print(f\"\"\"  \n",
    "Accuracy on Validation Set: {best_tree_score}\n",
    "Optimal Depth Value: {best_depth}\n",
    "\"\"\")"
   ]
  },
  {
   "cell_type": "markdown",
   "metadata": {},
   "source": [
    "It appears that the optimal maximum depth of the tree is 5. This model correctly predicted a user's phone plan 80% of the time on the validation data. Accuracy decreased at any maximum depth value set higher or lower than 5."
   ]
  },
  {
   "cell_type": "code",
   "execution_count": 38,
   "metadata": {},
   "outputs": [
    {
     "name": "stdout",
     "output_type": "stream",
     "text": [
      "Accuracy on Test Data: 0.7800829875518672\n"
     ]
    }
   ],
   "source": [
    "tree_test_prediction = best_tree_model.predict(features_test)\n",
    "tree_accuracy_test = accuracy_score(target_test, tree_test_prediction)\n",
    "print(f\"Accuracy on Test Data: {tree_accuracy_test}\")"
   ]
  },
  {
   "cell_type": "markdown",
   "metadata": {},
   "source": [
    "The model was less accurate on the test data with an accuracy of 78%"
   ]
  },
  {
   "cell_type": "markdown",
   "metadata": {},
   "source": [
    "### Random Forest Algorithm\n",
    "\n",
    "Let's move onto Random Forest and find the optimal value for the n_estimators hyperparameter by creating a loop similar to how we did while tuning the decision tree's max_depth hyperparameter."
   ]
  },
  {
   "cell_type": "code",
   "execution_count": 54,
   "metadata": {},
   "outputs": [
    {
     "name": "stdout",
     "output_type": "stream",
     "text": [
      "     \n",
      "Accuracy on Validation Data: 0.8186528497409327\n",
      "Best Number of Estimators for Random Forest Model: 20\n",
      "\n"
     ]
    }
   ],
   "source": [
    "# random forest model\n",
    "best_forest_model = None\n",
    "best_forest_score = 0\n",
    "best_est = 0\n",
    "\n",
    "for est in range(1, 50):\n",
    "    model = RandomForestClassifier(random_state=54321, n_estimators=est)\n",
    "    model.fit(features_train, target_train)\n",
    "    prediction = model.predict(features_valid)\n",
    "    score = accuracy_score(target_valid, prediction)\n",
    "    if score > best_forest_score:\n",
    "        best_forest_score = score\n",
    "        best_forest_model = model\n",
    "        best_est = est\n",
    "\n",
    "print(f\"\"\"     \n",
    "Accuracy on Validation Data: {best_forest_score}\n",
    "Best Number of Estimators for Random Forest Model: {best_est}\n",
    "\"\"\")"
   ]
  },
  {
   "cell_type": "markdown",
   "metadata": {},
   "source": [
    "It appears that the optimal number of estimators for our Random Forest model is 16, which accuracately predicted the user's plan 81% of the time"
   ]
  },
  {
   "cell_type": "code",
   "execution_count": 55,
   "metadata": {},
   "outputs": [
    {
     "name": "stdout",
     "output_type": "stream",
     "text": [
      "Accuracy on Test Data: 0.770746887966805\n"
     ]
    }
   ],
   "source": [
    "forest_test_predictions = best_forest_model.predict(features_test)\n",
    "forest_test_accuracy = accuracy_score(target_test, forest_test_predictions)\n",
    "print(f\"Accuracy on Test Data: {forest_test_accuracy}\")"
   ]
  },
  {
   "cell_type": "markdown",
   "metadata": {},
   "source": [
    "The random forest model was also less accurate on the test data with an accuracy of 76%"
   ]
  },
  {
   "cell_type": "markdown",
   "metadata": {},
   "source": [
    "### Logistic Regression Algorithm"
   ]
  },
  {
   "cell_type": "code",
   "execution_count": 48,
   "metadata": {},
   "outputs": [
    {
     "name": "stdout",
     "output_type": "stream",
     "text": [
      "Accuracy of Logistic Regression Model on Validation Set: 0.7274611398963731\n"
     ]
    }
   ],
   "source": [
    "# training logistic regression model\n",
    "log_reg_model = LogisticRegression(random_state=54321, solver='liblinear')\n",
    "log_reg_model.fit(features_train, target_train)\n",
    "prediction = log_reg_model.predict(features_valid)\n",
    "\n",
    "score_valid = accuracy_score(target_valid, prediction)\n",
    "\n",
    "print(f\"Accuracy of Logistic Regression Model on Validation Set: {score_valid}\")"
   ]
  },
  {
   "cell_type": "markdown",
   "metadata": {},
   "source": [
    "The Logistic Regression model performed the worst on the validation data with an accuracy score of 72% which is below the minimum threshold set by Megaline. Let's see how it performs on the test data."
   ]
  },
  {
   "cell_type": "code",
   "execution_count": 47,
   "metadata": {},
   "outputs": [
    {
     "name": "stdout",
     "output_type": "stream",
     "text": [
      "Accuracy of Logistic Regression Model on Test Set: 0.6939834024896265\n"
     ]
    }
   ],
   "source": [
    "log_reg_test_prediction = log_reg_model.predict(features_test)\n",
    "log_reg_test_accuracy = accuracy_score(target_test, log_reg_test_prediction)\n",
    "\n",
    "print(f'Accuracy of Logistic Regression Model on Test Set: {log_reg_test_accuracy}')"
   ]
  },
  {
   "cell_type": "markdown",
   "metadata": {},
   "source": [
    "The Logistic Regression model's accuracy fell further below the minimum threshold with an accuracy of 69% on the test data."
   ]
  },
  {
   "cell_type": "markdown",
   "metadata": {},
   "source": [
    "### Conclusion\n",
    "\n",
    "The best performing model was surprisingly the Decision Tree Classifier with a maximum depth value of 5 which successfully predicted the user's phone plan 78% of the time on the test data. The second best model was Random Forest with an accuracy of 77% on the test data, & the third best was Logistic Regression with an accuracy of 69% which falls below Megaline's minimum threshold of 75%."
   ]
  },
  {
   "cell_type": "markdown",
   "metadata": {},
   "source": []
  }
 ],
 "metadata": {
  "kernelspec": {
   "display_name": "sprint7project-hRTHQbCN",
   "language": "python",
   "name": "python3"
  },
  "language_info": {
   "codemirror_mode": {
    "name": "ipython",
    "version": 3
   },
   "file_extension": ".py",
   "mimetype": "text/x-python",
   "name": "python",
   "nbconvert_exporter": "python",
   "pygments_lexer": "ipython3",
   "version": "3.11.6"
  }
 },
 "nbformat": 4,
 "nbformat_minor": 2
}
