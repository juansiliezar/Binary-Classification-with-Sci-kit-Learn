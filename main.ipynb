{
 "cells": [
  {
   "cell_type": "code",
   "execution_count": 5,
   "metadata": {},
   "outputs": [],
   "source": [
    "import pandas as pd\n",
    "import numpy as np\n",
    "import plotly_express as px\n",
    "from sklearn.model_selection import train_test_split\n",
    "from sklearn.tree import DecisionTreeClassifier\n",
    "from sklearn.ensemble import RandomForestClassifier\n",
    "from sklearn.linear_model import LogisticRegression\n",
    "from sklearn.metrics import accuracy_score"
   ]
  },
  {
   "cell_type": "code",
   "execution_count": 6,
   "metadata": {},
   "outputs": [],
   "source": [
    "df = pd.read_csv('data/TripleTen user behavior.csv')\n",
    "\n",
    "features = df.drop(['is_ultra'], axis=1)\n",
    "target = df['is_ultra']\n",
    "\n",
    "features_train, features_temp, target_train, target_temp = train_test_split(features, target, test_size=0.4, random_state=54321)\n",
    "features_test, features_valid, target_test, target_valid = train_test_split(features_temp, target_temp, test_size=0.5, random_state=54321)"
   ]
  },
  {
   "cell_type": "markdown",
   "metadata": {},
   "source": [
    "#### I will now train three classification models to see which one performs best"
   ]
  },
  {
   "cell_type": "code",
   "execution_count": 7,
   "metadata": {},
   "outputs": [
    {
     "name": "stdout",
     "output_type": "stream",
     "text": [
      "Accuracy Score of the Best Model: 0.8164852255054432\n",
      "Value of Depth Parameter: 3\n"
     ]
    }
   ],
   "source": [
    "# first i will train the model using a decision tree and will create\n",
    "# a loop to tune the max_depth hyperparameter to find the optimal\n",
    "# value which will be decided using the accuracy evaluation metric\n",
    "bestModel = None\n",
    "bestScore = 0\n",
    "bestDepth = 0\n",
    "for depth in range(1, 6):\n",
    "    model = DecisionTreeClassifier(max_depth=depth, random_state=54321, criterion='gini')\n",
    "    model.fit(features_train, target_train)\n",
    "    prediction = model.predict(features_valid)\n",
    "    accuracy = accuracy_score(target_valid, prediction)\n",
    "    if accuracy > bestScore:\n",
    "        bestModel = model\n",
    "        bestScore = accuracy\n",
    "        bestDepth = depth\n",
    "        \n",
    "print(f\"\"\"Accuracy Score of the Best Model: {bestScore}\\nValue of Depth Parameter: {bestDepth}\"\"\")"
   ]
  },
  {
   "cell_type": "code",
   "execution_count": 8,
   "metadata": {},
   "outputs": [
    {
     "name": "stdout",
     "output_type": "stream",
     "text": [
      "Highest Accuracy for Random Forest Model: 0.8149300155520995\n",
      "Best Number of Estimators for Random Forest Model: 15\n"
     ]
    }
   ],
   "source": [
    "# random forest model\n",
    "bestModel = None\n",
    "bestScore = 0\n",
    "bestEst = 0\n",
    "for est in range(1, 16):\n",
    "    model = RandomForestClassifier(random_state=54321, n_estimators=est)\n",
    "    model.fit(features_train, target_train)\n",
    "    prediction = model.predict(features_valid)\n",
    "    score = accuracy_score(target_valid, prediction)\n",
    "    if score > bestScore:\n",
    "        bestScore = score\n",
    "        bestModel = model\n",
    "        bestEst = est\n",
    "print(f\"Highest Accuracy for Random Forest Model: {bestScore}\\nBest Number of Estimators for Random Forest Model: {bestEst}\")"
   ]
  },
  {
   "cell_type": "code",
   "execution_count": 12,
   "metadata": {},
   "outputs": [
    {
     "name": "stdout",
     "output_type": "stream",
     "text": [
      "Accuracy of Logistic Regression Model on Validation Set: 0.7402799377916018\n"
     ]
    }
   ],
   "source": [
    "# logistic regression model \n",
    "bestModel = None\n",
    "bestScore = 0\n",
    "best_hp = 0\n",
    "\n",
    "model = LogisticRegression(random_state=54321, solver='liblinear')\n",
    "model.fit(features_train, target_train)\n",
    "prediction = model.predict(features_valid)\n",
    "#score_train = accuracy_score(target_train, prediction)\n",
    "score_valid = accuracy_score(target_valid, prediction)\n",
    "#print(f\"Accuracy of Logistic Regression Model on Training Set: {score_train}\")\n",
    "print(f\"Accuracy of Logistic Regression Model on Validation Set: {score_valid}\")"
   ]
  },
  {
   "cell_type": "code",
   "execution_count": null,
   "metadata": {},
   "outputs": [],
   "source": []
  }
 ],
 "metadata": {
  "kernelspec": {
   "display_name": "sprint7project-hRTHQbCN",
   "language": "python",
   "name": "python3"
  },
  "language_info": {
   "codemirror_mode": {
    "name": "ipython",
    "version": 3
   },
   "file_extension": ".py",
   "mimetype": "text/x-python",
   "name": "python",
   "nbconvert_exporter": "python",
   "pygments_lexer": "ipython3",
   "version": "3.11.6"
  }
 },
 "nbformat": 4,
 "nbformat_minor": 2
}
